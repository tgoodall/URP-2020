{
 "cells": [
  {
   "cell_type": "code",
   "execution_count": 6,
   "metadata": {},
   "outputs": [
    {
     "data": {
      "text/plain": [
       "'C:\\\\Users\\\\tbgoo\\\\Documents\\\\Python Scripts\\\\URP 2020'"
      ]
     },
     "execution_count": 6,
     "metadata": {},
     "output_type": "execute_result"
    }
   ],
   "source": [
    "import os\n",
    "os.getcwd()"
   ]
  },
  {
   "cell_type": "code",
   "execution_count": 1,
   "metadata": {},
   "outputs": [
    {
     "name": "stderr",
     "output_type": "stream",
     "text": [
      "C:\\Users\\tbgoo\\anaconda\\lib\\site-packages\\scipy\\io\\wavfile.py:273: WavFileWarning: Chunk (non-data) not understood, skipping it.\n",
      "  WavFileWarning)\n"
     ]
    }
   ],
   "source": [
    "from get_data import data as dat\n",
    "\n",
    "file = (\"/users/tbgoo/Desktop/Guitar Samples/Dark Guitar String.wav\")\n",
    "window = 'blackman'\n",
    "M = 3001 # size of window\n",
    "t = -80 #threshold\n",
    "N = 4096 #size of fft\n",
    "Ns = 512 #size of fft used in synthesis\n",
    "freqDevOffset=20\n",
    "freqDevSlope=0.1\n",
    "maxnSines = 8\n",
    "minSineDur=.01\n",
    "\n",
    "sample_rate, freaks, ffts, mags = dat(file, window, M, t, N, Ns, freqDevOffset, freqDevSlope, maxnSines, minSineDur)"
   ]
  },
  {
   "cell_type": "code",
   "execution_count": null,
   "metadata": {
    "collapsed": true
   },
   "outputs": [],
   "source": [
    "import matplotlib.pyplot as plt\n",
    "from ipywidgets import interact, interactive, fixed, interact_manual\n",
    "import ipywidgets as widgets\n",
    "import numpy as np\n",
    "\n",
    "# graph code\n",
    "nyquist = sample_rate/2\n",
    "binsize = (nyquist)/(N/2)\n",
    "fscale = np.arange(0,nyquist,step=binsize)\n",
    "harmind = np.arange(80/binsize,nyquist,step=80/binsize, dtype=int)\n",
    "numHarms = 20\n",
    "\n",
    "def plot_func(i):\n",
    "    hfreq = np.arange(freaks[i,0],nyquist,step=freaks[i,0])\n",
    "    Ifreak = int((numHarms*80)/binsize)\n",
    "    #plt.figure(figsize = (16,7))\n",
    "    #plt.plot(fscale[0:Ifreak],ffts[i,0:Ifreak])\n",
    "    #plt.plot(freaks[i,0:numHarms],mags[i,0:numHarms],'o')\n",
    "    #plt.plot(freaks[i,0:numHarms],(mags[i,0:numHarms]-mags[i,0]),'o')\n",
    "    plt.plot(mags[:,0])\n",
    "    plt.show()\n",
    "\n",
    "interact(plot_func, i = widgets.IntSlider(value=100,\n",
    "                                          min=1,\n",
    "                                          max=2300))"
   ]
  },
  {
   "cell_type": "code",
   "execution_count": 2,
   "metadata": {
    "collapsed": true
   },
   "outputs": [],
   "source": [
    "def sineSubtraction(x, N, H, sfreq, smag, sphase, fs):\n",
    "\t\"\"\"\n",
    "\tSubtract sinusoids from a sound\n",
    "\tx: input sound, N: fft-size, H: hop-size\n",
    "\tsfreq, smag, sphase: sinusoidal frequencies, magnitudes and phases\n",
    "\treturns xr: residual sound\n",
    "\t\"\"\"\n",
    "\n",
    "\thN = N//2                                          # half of fft size\n",
    "\tx = np.append(np.zeros(hN),x)                      # add zeros at beginning to center first window at sample 0\n",
    "\tx = np.append(x,np.zeros(hN))                      # add zeros at the end to analyze last sample\n",
    "\tbh = blackmanharris(N)                             # blackman harris window\n",
    "\tw = bh/ sum(bh)                                    # normalize window\n",
    "\tsw = np.zeros(N)                                   # initialize synthesis window\n",
    "\tsw[hN-H:hN+H] = triang(2*H) / w[hN-H:hN+H]         # synthesis window\n",
    "\tL = sfreq.shape[0]                                 # number of frames, this works if no sines\n",
    "\txr = np.zeros(x.size)                              # initialize output array\n",
    "\tpin = 0\n",
    "\tfor l in range(L):\n",
    "\t\txw = x[pin:pin+N]*w                              # window the input sound\n",
    "\t\tX = fft(fftshift(xw))                            # compute FFT\n",
    "\t\tYh = UF_C.genSpecSines(N*sfreq[l,:]/fs, smag[l,:], sphase[l,:], N)   # generate spec sines\n",
    "\t\tXr = X-Yh                                        # subtract sines from original spectrum\n",
    "\t\txrw = np.real(fftshift(ifft(Xr)))                # inverse FFT\n",
    "\t\txr[pin:pin+N] += xrw*sw                          # overlap-add\n",
    "\t\tpin += H                                         # advance sound pointer\n",
    "\txr = np.delete(xr, range(hN))                      # delete half of first window which was added in stftAnal\n",
    "\txr = np.delete(xr, range(xr.size-hN, xr.size))     # delete half of last window which was added in stftAnal\n",
    "\treturn xr"
   ]
  },
  {
   "cell_type": "code",
   "execution_count": 4,
   "metadata": {
    "collapsed": true
   },
   "outputs": [],
   "source": [
    "import numpy as np\n",
    "from scipy.signal import blackmanharris, triang\n",
    "from scipy.fftpack import ifft, fftshift\n",
    "import math\n",
    "\n",
    "def sineModelSynth(xtfreq, xtmag, xtphase, N, H, fs):\n",
    "\t\"\"\"\n",
    "\tSynthesis of a sound using the sinusoidal model\n",
    "\ttfreq,tmag,tphase: frequencies, magnitudes and phases of sinusoids\n",
    "\tN: synthesis FFT size, H: hop size, fs: sampling rate\n",
    "\treturns y: output array sound\n",
    "\t\"\"\"\n",
    "\t\n",
    "\thN = N//2                                               # half of FFT size for synthesis\n",
    "\tL = tfreq.shape[0]                                      # number of frames\n",
    "\tpout = 0                                                # initialize output sound pointer         \n",
    "\tysize = H*(L+3)                                         # output sound size\n",
    "\ty = np.zeros(ysize)                                     # initialize output array\n",
    "\tsw = np.zeros(N)                                        # initialize synthesis window\n",
    "\tow = triang(2*H)                                        # triangular window\n",
    "\tsw[hN-H:hN+H] = ow                                      # add triangular window\n",
    "\tbh = blackmanharris(N)                                  # blackmanharris window\n",
    "\tbh = bh / sum(bh)                                       # normalized blackmanharris window\n",
    "\tsw[hN-H:hN+H] = sw[hN-H:hN+H]/bh[hN-H:hN+H]             # normalized synthesis window\n",
    "\tlastytfreq = tfreq[0,:]                                 # initialize synthesis frequencies\n",
    "\tytphase = 2*np.pi*np.random.rand(tfreq[0,:].size)       # initialize synthesis phases \n",
    "\tfor l in range(L):                                      # iterate over all frames\n",
    "\t\tif (tphase.size > 0):                                 # if no phases generate them\n",
    "\t\t\tytphase = tphase[l,:] \n",
    "\t\telse:\n",
    "\t\t\tytphase += (np.pi*(lastytfreq+tfreq[l,:])/fs)*H     # propagate phases\n",
    "\t\tY = UF.genSpecSines(tfreq[l,:], tmag[l,:], ytphase, N, fs)  # generate sines in the spectrum         \n",
    "\t\tlastytfreq = tfreq[l,:]                               # save frequency for phase propagation\n",
    "\t\tytphase = ytphase % (2*np.pi)                         # make phase inside 2*pi\n",
    "\t\tyw = np.real(fftshift(ifft(Y)))                       # compute inverse FFT\n",
    "\t\ty[pout:pout+N] += sw*yw                               # overlap-add and apply a synthesis window\n",
    "\t\tpout += H                                             # advance sound pointer\n",
    "\ty = np.delete(y, range(hN))                             # delete half of first window\n",
    "\ty = np.delete(y, range(y.size-hN, y.size))              # delete half of the last window \n",
    "\treturn y\n",
    "\t"
   ]
  },
  {
   "cell_type": "code",
   "execution_count": null,
   "metadata": {
    "collapsed": true
   },
   "outputs": [],
   "source": []
  },
  {
   "cell_type": "code",
   "execution_count": null,
   "metadata": {},
   "outputs": [],
   "source": [
    "\n",
    "\n"
   ]
  },
  {
   "cell_type": "code",
   "execution_count": 11,
   "metadata": {},
   "outputs": [
    {
     "data": {
      "text/plain": [
       "'\\ni = 1064\\nf0 = freaks[i,0]\\nhfreq = np.arange(f0,nyquist,step=f0)\\nharm = hfreq[10] # overtone 18 determined by f0\\npeaks = freaks[i,:]\\nlowF = harm-(f0/2)\\nhiF = harm+(f0/2)\\npeaks = peaks[peaks>=lowF]\\npeaks = peaks[peaks<=hiF]\\nif(peaks.shape[0]>0):\\n    peak = peaks[abs(peaks-harm).argmin()]\\nelse:\\n    lowInd,hiInd = closest2(lowF,hiF)\\n    ind = ffts[i,lowInd:hiInd].argmax()\\n    iploc, ipmag = binInterp(ffts[i,:],lowInd,ind)\\n    ipfreq = sample_rate*iploc/float(N)                            # convert peak locations to Hertz\\n    '"
      ]
     },
     "execution_count": 11,
     "metadata": {},
     "output_type": "execute_result"
    }
   ],
   "source": [
    "import matplotlib.pyplot as plt\n",
    "from ipywidgets import interact, interactive, fixed, interact_manual\n",
    "import ipywidgets as widgets\n",
    "\n",
    "nyquist = sample_rate/2\n",
    "binsize = (nyquist)/(N/2)\n",
    "fscale = np.arange(0,nyquist,step=binsize)\n",
    "harmind = np.arange(80/binsize,nyquist,step=80/binsize, dtype=int)\n",
    "numHarms = 20\n",
    "\n",
    "def closest2(lowF,hiF):\n",
    "    lowInd = abs(fscale - lowF).argmin()\n",
    "    hiInd = abs(fscale - hiF).argmin()\n",
    "    return lowInd, hiInd\n",
    "\n",
    "def binInterp(mX, lowInd, ind):\n",
    "    \"\"\"\n",
    "    Interpolate peak values using parabolic interpolation\n",
    "    mX, pX: magnitude and phase spectrum, ploc: locations of peaks\n",
    "    returns iploc, ipmag, ipphase: interpolated peak location, magnitude and phase values\n",
    "    \"\"\"\n",
    "    ploc = lowInd+ind\n",
    "    val = mX[ploc]                                          # magnitude of peak bin\n",
    "    if(ind==0):\n",
    "        lval = mX[ploc+1]                                       # magnitude of bin at left\n",
    "        rval = mX[ploc+1]                                       # magnitude of bin at right\n",
    "    elif(ind==1):\n",
    "        lval = mX[ploc-1]                                       # magnitude of bin at left\n",
    "        rval = mX[ploc+1]                                       # magnitude of bin at right\n",
    "    elif(ind==2):\n",
    "        lval = mX[ploc-1]                                       # magnitude of bin at left\n",
    "        rval = mX[ploc-1]\n",
    "        \n",
    "    iploc = ploc + 0.5*(lval-rval)/(lval-2*val+rval)        # center of parabola\n",
    "    ipmag = val - 0.25*(lval-rval)*(iploc-ploc)             # magnitude of peaks\n",
    "    return iploc, ipmag\n",
    "\"\"\"\n",
    "i = 1064\n",
    "f0 = freaks[i,0]\n",
    "hfreq = np.arange(f0,nyquist,step=f0)\n",
    "harm = hfreq[10] # overtone 18 determined by f0\n",
    "peaks = freaks[i,:]\n",
    "lowF = harm-(f0/2)\n",
    "hiF = harm+(f0/2)\n",
    "peaks = peaks[peaks>=lowF]\n",
    "peaks = peaks[peaks<=hiF]\n",
    "if(peaks.shape[0]>0):\n",
    "    peak = peaks[abs(peaks-harm).argmin()]\n",
    "else:\n",
    "    lowInd,hiInd = closest2(lowF,hiF)\n",
    "    ind = ffts[i,lowInd:hiInd].argmax()\n",
    "    iploc, ipmag = binInterp(ffts[i,:],lowInd,ind)\n",
    "    ipfreq = sample_rate*iploc/float(N)                            # convert peak locations to Hertz\n",
    "    \"\"\""
   ]
  },
  {
   "cell_type": "code",
   "execution_count": 81,
   "metadata": {},
   "outputs": [
    {
     "ename": "UnboundLocalError",
     "evalue": "local variable 'lval' referenced before assignment",
     "output_type": "error",
     "traceback": [
      "\u001b[1;31m---------------------------------------------------------------------------\u001b[0m",
      "\u001b[1;31mUnboundLocalError\u001b[0m                         Traceback (most recent call last)",
      "\u001b[1;32m<ipython-input-81-c2f59cf4a601>\u001b[0m in \u001b[0;36m<module>\u001b[1;34m()\u001b[0m\n\u001b[0;32m     18\u001b[0m         \u001b[0mlowInd\u001b[0m\u001b[1;33m,\u001b[0m\u001b[0mhiInd\u001b[0m \u001b[1;33m=\u001b[0m \u001b[0mclosest2\u001b[0m\u001b[1;33m(\u001b[0m\u001b[0mlowF\u001b[0m\u001b[1;33m,\u001b[0m\u001b[0mhiF\u001b[0m\u001b[1;33m)\u001b[0m\u001b[1;33m\u001b[0m\u001b[0m\n\u001b[0;32m     19\u001b[0m         \u001b[0mind\u001b[0m \u001b[1;33m=\u001b[0m \u001b[0mffts\u001b[0m\u001b[1;33m[\u001b[0m\u001b[0mi\u001b[0m\u001b[1;33m,\u001b[0m\u001b[0mlowInd\u001b[0m\u001b[1;33m:\u001b[0m\u001b[0mhiInd\u001b[0m\u001b[1;33m]\u001b[0m\u001b[1;33m.\u001b[0m\u001b[0margmax\u001b[0m\u001b[1;33m(\u001b[0m\u001b[1;33m)\u001b[0m\u001b[1;33m\u001b[0m\u001b[0m\n\u001b[1;32m---> 20\u001b[1;33m         \u001b[0miploc\u001b[0m\u001b[1;33m,\u001b[0m \u001b[0mipmag\u001b[0m \u001b[1;33m=\u001b[0m \u001b[0mbinInterp\u001b[0m\u001b[1;33m(\u001b[0m\u001b[0mffts\u001b[0m\u001b[1;33m[\u001b[0m\u001b[0mi\u001b[0m\u001b[1;33m,\u001b[0m\u001b[1;33m:\u001b[0m\u001b[1;33m]\u001b[0m\u001b[1;33m,\u001b[0m\u001b[0mlowInd\u001b[0m\u001b[1;33m,\u001b[0m\u001b[0mind\u001b[0m\u001b[1;33m)\u001b[0m\u001b[1;33m\u001b[0m\u001b[0m\n\u001b[0m\u001b[0;32m     21\u001b[0m         \u001b[0mipfreq\u001b[0m \u001b[1;33m=\u001b[0m \u001b[0msample_rate\u001b[0m\u001b[1;33m*\u001b[0m\u001b[0miploc\u001b[0m\u001b[1;33m/\u001b[0m\u001b[0mfloat\u001b[0m\u001b[1;33m(\u001b[0m\u001b[0mN\u001b[0m\u001b[1;33m)\u001b[0m                            \u001b[1;31m# convert peak locations to Hertz\u001b[0m\u001b[1;33m\u001b[0m\u001b[0m\n\u001b[0;32m     22\u001b[0m         \u001b[0mfreqs\u001b[0m \u001b[1;33m=\u001b[0m \u001b[0mnp\u001b[0m\u001b[1;33m.\u001b[0m\u001b[0mappend\u001b[0m\u001b[1;33m(\u001b[0m\u001b[0mfreqs\u001b[0m\u001b[1;33m,\u001b[0m \u001b[0mipfreq\u001b[0m\u001b[1;33m)\u001b[0m\u001b[1;33m\u001b[0m\u001b[0m\n",
      "\u001b[1;32m<ipython-input-35-d7ef7271a15f>\u001b[0m in \u001b[0;36mbinInterp\u001b[1;34m(mX, lowInd, ind)\u001b[0m\n\u001b[0;32m     32\u001b[0m         \u001b[0mrval\u001b[0m \u001b[1;33m=\u001b[0m \u001b[0mmX\u001b[0m\u001b[1;33m[\u001b[0m\u001b[0mploc\u001b[0m\u001b[1;33m-\u001b[0m\u001b[1;36m1\u001b[0m\u001b[1;33m]\u001b[0m\u001b[1;33m\u001b[0m\u001b[0m\n\u001b[0;32m     33\u001b[0m \u001b[1;33m\u001b[0m\u001b[0m\n\u001b[1;32m---> 34\u001b[1;33m     \u001b[0miploc\u001b[0m \u001b[1;33m=\u001b[0m \u001b[0mploc\u001b[0m \u001b[1;33m+\u001b[0m \u001b[1;36m0.5\u001b[0m\u001b[1;33m*\u001b[0m\u001b[1;33m(\u001b[0m\u001b[0mlval\u001b[0m\u001b[1;33m-\u001b[0m\u001b[0mrval\u001b[0m\u001b[1;33m)\u001b[0m\u001b[1;33m/\u001b[0m\u001b[1;33m(\u001b[0m\u001b[0mlval\u001b[0m\u001b[1;33m-\u001b[0m\u001b[1;36m2\u001b[0m\u001b[1;33m*\u001b[0m\u001b[0mval\u001b[0m\u001b[1;33m+\u001b[0m\u001b[0mrval\u001b[0m\u001b[1;33m)\u001b[0m        \u001b[1;31m# center of parabola\u001b[0m\u001b[1;33m\u001b[0m\u001b[0m\n\u001b[0m\u001b[0;32m     35\u001b[0m     \u001b[0mipmag\u001b[0m \u001b[1;33m=\u001b[0m \u001b[0mval\u001b[0m \u001b[1;33m-\u001b[0m \u001b[1;36m0.25\u001b[0m\u001b[1;33m*\u001b[0m\u001b[1;33m(\u001b[0m\u001b[0mlval\u001b[0m\u001b[1;33m-\u001b[0m\u001b[0mrval\u001b[0m\u001b[1;33m)\u001b[0m\u001b[1;33m*\u001b[0m\u001b[1;33m(\u001b[0m\u001b[0miploc\u001b[0m\u001b[1;33m-\u001b[0m\u001b[0mploc\u001b[0m\u001b[1;33m)\u001b[0m             \u001b[1;31m# magnitude of peaks\u001b[0m\u001b[1;33m\u001b[0m\u001b[0m\n\u001b[0;32m     36\u001b[0m     \u001b[1;32mreturn\u001b[0m \u001b[0miploc\u001b[0m\u001b[1;33m,\u001b[0m \u001b[0mipmag\u001b[0m\u001b[1;33m\u001b[0m\u001b[0m\n",
      "\u001b[1;31mUnboundLocalError\u001b[0m: local variable 'lval' referenced before assignment"
     ]
    }
   ],
   "source": [
    "freqs = np.array([])\n",
    "\n",
    "numags = np.array([])\n",
    "for i in range(mags.shape[0]):\n",
    "    f0 = freaks[i,0]\n",
    "    hfreq = np.arange(f0,nyquist,step=f0)\n",
    "    harm = hfreq[10] # overtone 18 determined by f0\n",
    "    peaks = freaks[i,:]\n",
    "    Pmags = mags[i,:]\n",
    "    lowF = harm-(f0/2)\n",
    "    hiF = harm+(f0/2)\n",
    "    peaks = peaks[peaks>=lowF]\n",
    "    peaks = peaks[peaks<=hiF]\n",
    "    if(peaks.shape[0]>0):\n",
    "        ind = abs(peaks-harm).argmin()\n",
    "        freqs = np.append(freqs,peaks[ind])\n",
    "        numags = np.append(numags,Pmags[ind])\n",
    "    else:\n",
    "        lowInd,hiInd = closest2(lowF,hiF)\n",
    "        ind = ffts[i,lowInd:hiInd].argmax()\n",
    "        iploc, ipmag = binInterp(ffts[i,:],lowInd,ind)\n",
    "        ipfreq = sample_rate*iploc/float(N)                            # convert peak locations to Hertz\n",
    "        freqs = np.append(freqs, ipfreq)\n",
    "        numags = np.append(numags, ipmag)"
   ]
  },
  {
   "cell_type": "code",
   "execution_count": 36,
   "metadata": {},
   "outputs": [
    {
     "data": {
      "application/vnd.jupyter.widget-view+json": {
       "model_id": "232fc118f9634f22935996bda0dc0006",
       "version_major": 2,
       "version_minor": 0
      },
      "text/plain": [
       "A Jupyter Widget"
      ]
     },
     "metadata": {},
     "output_type": "display_data"
    },
    {
     "data": {
      "text/plain": [
       "<function __main__.plot_func>"
      ]
     },
     "execution_count": 36,
     "metadata": {},
     "output_type": "execute_result"
    }
   ],
   "source": [
    "import matplotlib.pyplot as plt\n",
    "from ipywidgets import interact, interactive, fixed, interact_manual\n",
    "import ipywidgets as widgets\n",
    "\n",
    "def plot_func(i):\n",
    "    numval = xtmag[:,i].shape[0]\n",
    "    x = np.arange(0,numval)\n",
    "    plt.plot(xtmag[:,i])\n",
    "    plt.plot(x*slopes[i]+yint[i])\n",
    "    plt.show()\n",
    "interact(plot_func, i = widgets.IntSlider(value=0,\n",
    "                                               min=0,\n",
    "                                               max=19))"
   ]
  },
  {
   "cell_type": "code",
   "execution_count": 28,
   "metadata": {
    "collapsed": true
   },
   "outputs": [],
   "source": [
    "import scipy.optimize as sci\n",
    "from scipy import polyfit\n",
    "from scipy import optimize\n",
    "\n",
    "x = np.arange(50,numfft)\n",
    "lines = np.zeros(shape=(3))\n",
    "\n",
    "slopes = np.zeros(shape=0)\n",
    "yint = np.zeros(shape=0)\n",
    "numsamps = 5\n",
    "\n",
    "for i in range(numsamps):\n",
    "        vals = xtmag[:,i]\n",
    "        ind = np.where(vals>-120)[0]\n",
    "        vols = vals[ind]\n",
    "        var = polyfit(ind,vols,1)\n",
    "        slopes = np.append(slopes,var[0])\n",
    "        yint = np.append(yint,var[1])\n"
   ]
  },
  {
   "cell_type": "code",
   "execution_count": 2,
   "metadata": {
    "collapsed": true
   },
   "outputs": [],
   "source": [
    "import numpy as np\n",
    "from test_func import test as t\n",
    "x = np.array([10,2,4,7,1])"
   ]
  },
  {
   "cell_type": "code",
   "execution_count": 3,
   "metadata": {},
   "outputs": [
    {
     "data": {
      "text/plain": [
       "array([ 1,  2,  4,  7, 10])"
      ]
     },
     "execution_count": 3,
     "metadata": {},
     "output_type": "execute_result"
    }
   ],
   "source": []
  },
  {
   "cell_type": "code",
   "execution_count": 14,
   "metadata": {},
   "outputs": [
    {
     "ename": "ValueError",
     "evalue": "operands could not be broadcast together with shapes (2048,) (512,) ",
     "output_type": "error",
     "traceback": [
      "\u001b[1;31m---------------------------------------------------------------------------\u001b[0m",
      "\u001b[1;31mValueError\u001b[0m                                Traceback (most recent call last)",
      "\u001b[1;32m<ipython-input-14-ffed0e228ca9>\u001b[0m in \u001b[0;36m<module>\u001b[1;34m()\u001b[0m\n\u001b[1;32m----> 1\u001b[1;33m \u001b[0mxr\u001b[0m \u001b[1;33m=\u001b[0m \u001b[0msineSubtraction\u001b[0m\u001b[1;33m(\u001b[0m\u001b[0maudio_data\u001b[0m\u001b[1;33m,\u001b[0m \u001b[0mNs\u001b[0m\u001b[1;33m,\u001b[0m \u001b[0mH\u001b[0m\u001b[1;33m,\u001b[0m \u001b[0mxtfreq\u001b[0m\u001b[1;33m,\u001b[0m \u001b[0mxtmag\u001b[0m\u001b[1;33m,\u001b[0m \u001b[0mxtphase\u001b[0m\u001b[1;33m,\u001b[0m \u001b[0msample_rate\u001b[0m\u001b[1;33m)\u001b[0m\u001b[1;33m\u001b[0m\u001b[0m\n\u001b[0m",
      "\u001b[1;32m<ipython-input-7-2a75570107f0>\u001b[0m in \u001b[0;36msineSubtraction\u001b[1;34m(x, N, H, sfreq, smag, sphase, fs)\u001b[0m\n\u001b[0;32m     13\u001b[0m         \u001b[0mw\u001b[0m \u001b[1;33m=\u001b[0m \u001b[0mbh\u001b[0m\u001b[1;33m/\u001b[0m \u001b[0msum\u001b[0m\u001b[1;33m(\u001b[0m\u001b[0mbh\u001b[0m\u001b[1;33m)\u001b[0m                                    \u001b[1;31m# normalize window\u001b[0m\u001b[1;33m\u001b[0m\u001b[0m\n\u001b[0;32m     14\u001b[0m         \u001b[0msw\u001b[0m \u001b[1;33m=\u001b[0m \u001b[0mnp\u001b[0m\u001b[1;33m.\u001b[0m\u001b[0mzeros\u001b[0m\u001b[1;33m(\u001b[0m\u001b[0mN\u001b[0m\u001b[1;33m)\u001b[0m                                   \u001b[1;31m# initialize synthesis window\u001b[0m\u001b[1;33m\u001b[0m\u001b[0m\n\u001b[1;32m---> 15\u001b[1;33m         \u001b[0msw\u001b[0m\u001b[1;33m[\u001b[0m\u001b[0mhN\u001b[0m\u001b[1;33m-\u001b[0m\u001b[0mH\u001b[0m\u001b[1;33m:\u001b[0m\u001b[0mhN\u001b[0m\u001b[1;33m+\u001b[0m\u001b[0mH\u001b[0m\u001b[1;33m]\u001b[0m \u001b[1;33m=\u001b[0m \u001b[0mtriang\u001b[0m\u001b[1;33m(\u001b[0m\u001b[1;36m2\u001b[0m\u001b[1;33m*\u001b[0m\u001b[0mH\u001b[0m\u001b[1;33m)\u001b[0m \u001b[1;33m/\u001b[0m \u001b[0mw\u001b[0m\u001b[1;33m[\u001b[0m\u001b[0mhN\u001b[0m\u001b[1;33m-\u001b[0m\u001b[0mH\u001b[0m\u001b[1;33m:\u001b[0m\u001b[0mhN\u001b[0m\u001b[1;33m+\u001b[0m\u001b[0mH\u001b[0m\u001b[1;33m]\u001b[0m         \u001b[1;31m# synthesis window\u001b[0m\u001b[1;33m\u001b[0m\u001b[0m\n\u001b[0m\u001b[0;32m     16\u001b[0m         \u001b[0mL\u001b[0m \u001b[1;33m=\u001b[0m \u001b[0msfreq\u001b[0m\u001b[1;33m.\u001b[0m\u001b[0mshape\u001b[0m\u001b[1;33m[\u001b[0m\u001b[1;36m0\u001b[0m\u001b[1;33m]\u001b[0m                                 \u001b[1;31m# number of frames, this works if no sines\u001b[0m\u001b[1;33m\u001b[0m\u001b[0m\n\u001b[0;32m     17\u001b[0m         \u001b[0mxr\u001b[0m \u001b[1;33m=\u001b[0m \u001b[0mnp\u001b[0m\u001b[1;33m.\u001b[0m\u001b[0mzeros\u001b[0m\u001b[1;33m(\u001b[0m\u001b[0mx\u001b[0m\u001b[1;33m.\u001b[0m\u001b[0msize\u001b[0m\u001b[1;33m)\u001b[0m                              \u001b[1;31m# initialize output array\u001b[0m\u001b[1;33m\u001b[0m\u001b[0m\n",
      "\u001b[1;31mValueError\u001b[0m: operands could not be broadcast together with shapes (2048,) (512,) "
     ]
    }
   ],
   "source": [
    "xr = sineSubtraction(audio_data, Ns, H, xtfreq, xtmag, xtphase, sample_rate)"
   ]
  },
  {
   "cell_type": "code",
   "execution_count": null,
   "metadata": {
    "collapsed": true
   },
   "outputs": [],
   "source": []
  },
  {
   "cell_type": "code",
   "execution_count": null,
   "metadata": {
    "collapsed": true
   },
   "outputs": [],
   "source": []
  },
  {
   "cell_type": "code",
   "execution_count": 2,
   "metadata": {
    "collapsed": true
   },
   "outputs": [],
   "source": []
  },
  {
   "cell_type": "code",
   "execution_count": null,
   "metadata": {
    "collapsed": true
   },
   "outputs": [],
   "source": []
  }
 ],
 "metadata": {
  "kernelspec": {
   "display_name": "Python 3",
   "language": "python",
   "name": "python3"
  },
  "language_info": {
   "codemirror_mode": {
    "name": "ipython",
    "version": 3
   },
   "file_extension": ".py",
   "mimetype": "text/x-python",
   "name": "python",
   "nbconvert_exporter": "python",
   "pygments_lexer": "ipython3",
   "version": "3.6.3"
  }
 },
 "nbformat": 4,
 "nbformat_minor": 2
}
