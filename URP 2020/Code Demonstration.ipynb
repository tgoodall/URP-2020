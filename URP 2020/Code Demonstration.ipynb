{
 "cells": [
  {
   "cell_type": "code",
   "execution_count": 1,
   "metadata": {},
   "outputs": [
    {
     "name": "stderr",
     "output_type": "stream",
     "text": [
      "C:\\Users\\tbgoo\\anaconda\\lib\\site-packages\\scipy\\io\\wavfile.py:273: WavFileWarning: Chunk (non-data) not understood, skipping it.\n",
      "  WavFileWarning)\n"
     ]
    }
   ],
   "source": [
    "from get_data import data as dat\n",
    "\n",
    "file = (\"/users/tbgoo/Desktop/Guitar Samples/Dark Guitar String.wav\")\n",
    "window = 'blackman'\n",
    "M = 3001 # size of window\n",
    "t = -80 #threshold\n",
    "N = 4096 #size of fft\n",
    "Ns = 1024 #size of fft used in synthesis\n",
    "freqDevOffset=20\n",
    "freqDevSlope=0.1\n",
    "maxnSines = 8\n",
    "minSineDur=.01\n",
    "\n",
    "sample_rate, freaks, ffts, mags = dat(file, window, M, t, N, Ns, freqDevOffset, freqDevSlope, maxnSines, minSineDur)"
   ]
  },
  {
   "cell_type": "code",
   "execution_count": 4,
   "metadata": {},
   "outputs": [
    {
     "data": {
      "application/vnd.jupyter.widget-view+json": {
       "model_id": "c009cbd1857f4d9a817dabd1a551e066",
       "version_major": 2,
       "version_minor": 0
      },
      "text/plain": [
       "A Jupyter Widget"
      ]
     },
     "metadata": {},
     "output_type": "display_data"
    },
    {
     "data": {
      "text/plain": [
       "<function __main__.plot_func>"
      ]
     },
     "execution_count": 4,
     "metadata": {},
     "output_type": "execute_result"
    }
   ],
   "source": [
    "import matplotlib.pyplot as plt\n",
    "from ipywidgets import interact, interactive, fixed, interact_manual\n",
    "import ipywidgets as widgets\n",
    "import numpy as np\n",
    "\n",
    "# graph code\n",
    "nyquist = sample_rate/2\n",
    "binsize = (nyquist)/(N/2)\n",
    "fscale = np.arange(0,nyquist,step=binsize)\n",
    "harmind = np.arange(80/binsize,nyquist,step=80/binsize, dtype=int)\n",
    "numHarms = 20\n",
    "\n",
    "def plot_func(i):\n",
    "    hfreq = np.arange(freaks[i,0],nyquist,step=freaks[i,0])\n",
    "    Ifreak = int((numHarms*80)/binsize)\n",
    "    plt.figure(figsize = (16,7))\n",
    "    plt.plot(fscale[0:Ifreak],ffts[i,0:Ifreak])\n",
    "    plt.plot(freaks[i,0:numHarms],mags[i,0:numHarms],'o')\n",
    "    #plt.plot(freaks[i,0:numHarms],(mags[i,0:numHarms]-mags[i,0]),'o')\n",
    "    plt.show()\n",
    "\n",
    "interact(plot_func, i = widgets.IntSlider(value=100,\n",
    "                                          min=1,\n",
    "                                          max=2300))"
   ]
  },
  {
   "cell_type": "code",
   "execution_count": 3,
   "metadata": {},
   "outputs": [
    {
     "data": {
      "image/png": "[encoded data removed]",
      "text/plain": [
       "<matplotlib.figure.Figure at 0x1631d10fe48>"
      ]
     },
     "metadata": {},
     "output_type": "display_data"
    }
   ],
   "source": [
    "plt.plot(mags[:,1])\n",
    "plt.show()"
   ]
  },
  {
   "cell_type": "code",
   "execution_count": 3,
   "metadata": {},
   "outputs": [
    {
     "ename": "NameError",
     "evalue": "name 'i' is not defined",
     "output_type": "error",
     "traceback": [
      "\u001b[1;31m---------------------------------------------------------------------------\u001b[0m",
      "\u001b[1;31mNameError\u001b[0m                                 Traceback (most recent call last)",
      "\u001b[1;32m<ipython-input-3-0ccc90ce813d>\u001b[0m in \u001b[0;36m<module>\u001b[1;34m()\u001b[0m\n\u001b[1;32m----> 1\u001b[1;33m \u001b[0mmags\u001b[0m\u001b[1;33m[\u001b[0m\u001b[0mi\u001b[0m\u001b[1;33m,\u001b[0m\u001b[1;36m0\u001b[0m\u001b[1;33m:\u001b[0m\u001b[0mnumHarms\u001b[0m\u001b[1;33m]\u001b[0m\u001b[1;33m\u001b[0m\u001b[0m\n\u001b[0m",
      "\u001b[1;31mNameError\u001b[0m: name 'i' is not defined"
     ]
    }
   ],
   "source": [
    " \n",
    "mags[i,0:numHarms]"
   ]
  },
  {
   "cell_type": "code",
   "execution_count": null,
   "metadata": {
    "collapsed": true
   },
   "outputs": [],
   "source": []
  },
  {
   "cell_type": "code",
   "execution_count": null,
   "metadata": {
    "collapsed": true
   },
   "outputs": [],
   "source": []
  },
  {
   "cell_type": "code",
   "execution_count": null,
   "metadata": {
    "collapsed": true
   },
   "outputs": [],
   "source": []
  },
  {
   "cell_type": "code",
   "execution_count": null,
   "metadata": {
    "collapsed": true
   },
   "outputs": [],
   "source": []
  }
 ],
 "metadata": {
  "kernelspec": {
   "display_name": "Python 3",
   "language": "python",
   "name": "python3"
  },
  "language_info": {
   "codemirror_mode": {
    "name": "ipython",
    "version": 3
   },
   "file_extension": ".py",
   "mimetype": "text/x-python",
   "name": "python",
   "nbconvert_exporter": "python",
   "pygments_lexer": "ipython3",
   "version": "3.6.3"
  }
 },
 "nbformat": 4,
 "nbformat_minor": 2
}
